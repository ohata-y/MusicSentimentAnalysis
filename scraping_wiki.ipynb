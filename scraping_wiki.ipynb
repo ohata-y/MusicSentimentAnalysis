{
 "cells": [
  {
   "cell_type": "code",
   "execution_count": 1,
   "metadata": {},
   "outputs": [],
   "source": [
    "from bs4 import BeautifulSoup\n",
    "import requests\n",
    "import pandas as pd\n",
    "from tqdm import tqdm"
   ]
  },
  {
   "cell_type": "code",
   "execution_count": 2,
   "metadata": {},
   "outputs": [],
   "source": [
    "response = requests.get(\"https://en.wikipedia.org/wiki/Billboard_year-end_top_singles_of_1946\")\n",
    "soup = BeautifulSoup(response.text, \"html.parser\")"
   ]
  },
  {
   "cell_type": "code",
   "execution_count": 3,
   "metadata": {},
   "outputs": [],
   "source": [
    "link_table = soup.find_all(\"tbody\")[1]\n",
    "links = link_table.find_all(\"a\")[7:]"
   ]
  },
  {
   "cell_type": "code",
   "execution_count": 4,
   "metadata": {},
   "outputs": [
    {
     "name": "stderr",
     "output_type": "stream",
     "text": [
      "100%|██████████| 77/77 [00:00<00:00, 76458.67it/s]\n"
     ]
    }
   ],
   "source": [
    "Wiki_ranking_links = [\"/wiki/Billboard_year-end_top_singles_of_1946\"]\n",
    "for link in tqdm(links):\n",
    "    Wiki_ranking_links.append(link.get(\"href\"))"
   ]
  },
  {
   "cell_type": "code",
   "execution_count": 28,
   "metadata": {},
   "outputs": [
    {
     "name": "stderr",
     "output_type": "stream",
     "text": [
      "100%|██████████| 78/78 [00:46<00:00,  1.67it/s]\n"
     ]
    }
   ],
   "source": [
    "df_all_rankings = pd.DataFrame()\n",
    "year = 1946\n",
    "\n",
    "for link in tqdm(Wiki_ranking_links):\n",
    "    dfs = pd.read_html(f\"https://en.wikipedia.org{link}\")\n",
    "    if year == 2012 or year == 2013:\n",
    "        df_ranking = dfs[1]\n",
    "    elif year == 2023:\n",
    "        df_ranking = dfs[2]\n",
    "    else:\n",
    "        df_ranking = dfs[0]\n",
    "    df_year_and_rank = pd.DataFrame(data={\"year\": [year for _ in range(len(df_ranking))], \"rank\": [i + 1 for i in range(len(df_ranking))]})\n",
    "    df_ranking = pd.concat([df_year_and_rank, df_ranking.iloc[:,1], df_ranking.iloc[:,2]], axis=1)\n",
    "    df_all_rankings = pd.concat([df_all_rankings, df_ranking], axis=0)\n",
    "    year += 1"
   ]
  },
  {
   "cell_type": "code",
   "execution_count": 6,
   "metadata": {},
   "outputs": [
    {
     "data": {
      "text/html": [
       "<div>\n",
       "<style scoped>\n",
       "    .dataframe tbody tr th:only-of-type {\n",
       "        vertical-align: middle;\n",
       "    }\n",
       "\n",
       "    .dataframe tbody tr th {\n",
       "        vertical-align: top;\n",
       "    }\n",
       "\n",
       "    .dataframe thead th {\n",
       "        text-align: right;\n",
       "    }\n",
       "</style>\n",
       "<table border=\"1\" class=\"dataframe\">\n",
       "  <thead>\n",
       "    <tr style=\"text-align: right;\">\n",
       "      <th></th>\n",
       "      <th>year</th>\n",
       "      <th>rank</th>\n",
       "      <th>Title</th>\n",
       "      <th>Artist(s)</th>\n",
       "    </tr>\n",
       "  </thead>\n",
       "  <tbody>\n",
       "    <tr>\n",
       "      <th>0</th>\n",
       "      <td>1946</td>\n",
       "      <td>1</td>\n",
       "      <td>\"Prisoner of Love\"</td>\n",
       "      <td>Perry Como</td>\n",
       "    </tr>\n",
       "    <tr>\n",
       "      <th>1</th>\n",
       "      <td>1946</td>\n",
       "      <td>2</td>\n",
       "      <td>\"To Each His Own\"</td>\n",
       "      <td>Eddy Howard</td>\n",
       "    </tr>\n",
       "    <tr>\n",
       "      <th>2</th>\n",
       "      <td>1946</td>\n",
       "      <td>3</td>\n",
       "      <td>\"The Gypsy\"</td>\n",
       "      <td>The Ink Spots</td>\n",
       "    </tr>\n",
       "    <tr>\n",
       "      <th>3</th>\n",
       "      <td>1946</td>\n",
       "      <td>4</td>\n",
       "      <td>\"Five Minutes More\"</td>\n",
       "      <td>Frank Sinatra</td>\n",
       "    </tr>\n",
       "    <tr>\n",
       "      <th>4</th>\n",
       "      <td>1946</td>\n",
       "      <td>5</td>\n",
       "      <td>\"Rumors Are Flying\"</td>\n",
       "      <td>Frankie Carle</td>\n",
       "    </tr>\n",
       "  </tbody>\n",
       "</table>\n",
       "</div>"
      ],
      "text/plain": [
       "   year  rank                Title      Artist(s)\n",
       "0  1946     1   \"Prisoner of Love\"     Perry Como\n",
       "1  1946     2    \"To Each His Own\"    Eddy Howard\n",
       "2  1946     3          \"The Gypsy\"  The Ink Spots\n",
       "3  1946     4  \"Five Minutes More\"  Frank Sinatra\n",
       "4  1946     5  \"Rumors Are Flying\"  Frankie Carle"
      ]
     },
     "execution_count": 6,
     "metadata": {},
     "output_type": "execute_result"
    }
   ],
   "source": [
    "df_all_rankings.reset_index(drop=True, inplace=True)\n",
    "df_all_rankings.head(5)"
   ]
  },
  {
   "cell_type": "code",
   "execution_count": 7,
   "metadata": {},
   "outputs": [
    {
     "data": {
      "text/html": [
       "<div>\n",
       "<style scoped>\n",
       "    .dataframe tbody tr th:only-of-type {\n",
       "        vertical-align: middle;\n",
       "    }\n",
       "\n",
       "    .dataframe tbody tr th {\n",
       "        vertical-align: top;\n",
       "    }\n",
       "\n",
       "    .dataframe thead th {\n",
       "        text-align: right;\n",
       "    }\n",
       "</style>\n",
       "<table border=\"1\" class=\"dataframe\">\n",
       "  <thead>\n",
       "    <tr style=\"text-align: right;\">\n",
       "      <th></th>\n",
       "      <th>year</th>\n",
       "      <th>rank</th>\n",
       "      <th>Title</th>\n",
       "      <th>Artist(s)</th>\n",
       "    </tr>\n",
       "  </thead>\n",
       "  <tbody>\n",
       "    <tr>\n",
       "      <th>1404</th>\n",
       "      <td>1968</td>\n",
       "      <td>17</td>\n",
       "      <td>\"Stoned Soul Picnic”</td>\n",
       "      <td>The 5th Dimension</td>\n",
       "    </tr>\n",
       "  </tbody>\n",
       "</table>\n",
       "</div>"
      ],
      "text/plain": [
       "      year  rank                 Title          Artist(s)\n",
       "1404  1968    17  \"Stoned Soul Picnic”  The 5th Dimension"
      ]
     },
     "execution_count": 7,
     "metadata": {},
     "output_type": "execute_result"
    }
   ],
   "source": [
    "# \"Stoned Soul Picnic”となっており、ダブルクォーテーションがおかしい\n",
    "df_all_rankings.query('year == 1968 and rank == 17')"
   ]
  },
  {
   "cell_type": "code",
   "execution_count": 8,
   "metadata": {},
   "outputs": [],
   "source": [
    "# 修正\n",
    "df_all_rankings.iloc[1404, 2] = '\"Stoned Soul Picnic\"'"
   ]
  },
  {
   "cell_type": "code",
   "execution_count": 20,
   "metadata": {},
   "outputs": [],
   "source": [
    "def title_modification(title: str, year: int) -> str:\n",
    "    \"\"\"\n",
    "    レコードのA面とB面のタイトルを分離。\\\\\n",
    "    また、タイトルにつけられている余分なダブルクォーテーションを取り除く。\n",
    "    \"\"\"\n",
    "    if title.find(\"/\") != -1:\n",
    "        if title.find('\" / \"') != -1:\n",
    "            idx = title.find('\" / \"')\n",
    "            title1 = title[1:idx]\n",
    "            title2 = title[idx+5:-1]\n",
    "            return(f\"{title1}|{title2}\")\n",
    "        elif title.find('\"/\"') != -1:\n",
    "            idx = title.find('\"/\"')\n",
    "            title1 = title[1:idx]\n",
    "            title2 = title[idx+3:-1]\n",
    "            return(f\"{title1}|{title2}\")\n",
    "        else:\n",
    "            # 1999年以降のタイトルに含まれるスラッシュは、そもそもスラッシュがタイトルの一部であるため分離しない。\n",
    "            # 例えば\"7/11\"や\"0 to 100 / The Catch Up\"など。\n",
    "            if year <= 1998:\n",
    "                idx = title.find(\"/\")\n",
    "                title1 = title[1:idx]\n",
    "                title2 = title[idx+1:-1]\n",
    "                return(f\"{title1}|{title2}\")\n",
    "    else:\n",
    "        return(title[1:-1])"
   ]
  },
  {
   "cell_type": "code",
   "execution_count": 16,
   "metadata": {},
   "outputs": [],
   "source": [
    "def artist_modification(artist: str) -> str:\n",
    "    \"\"\"\n",
    "    \"Artist1 & Artist2\", \"Artist1 featuring Artist2\", \"Artist1 with Artist2\"のような場合に対し、先頭のアーティスト（Artist1）のみを抽出する。\n",
    "    \"\"\"\n",
    "    # 基本的には先頭のアーティスト名義で曲が発表されていると考えてよい。\n",
    "    # \"A and B\", \"A & B\"など、andや&自体がアーティスト名に含まれている場合があるが、この場ではその判定は行わない。\n",
    "    # Genius APIで歌詞を検索する際にチェックする。\n",
    "    idx_feat = artist.find(\" featuring \")\n",
    "    idx_and = artist.find(\" and \")\n",
    "    idx_and_sig = artist.find(\" & \")\n",
    "    idx_with = artist.find(\" with \")\n",
    "    idxs = [idx_feat, idx_and, idx_and_sig, idx_with]\n",
    "    valid_idxs = [idx for idx in idxs if idx != -1]\n",
    "    if valid_idxs == []:\n",
    "        return artist\n",
    "    else:\n",
    "        min_idx = min(valid_idxs)\n",
    "        artist = artist[:min_idx]\n",
    "        return artist"
   ]
  },
  {
   "cell_type": "code",
   "execution_count": 22,
   "metadata": {},
   "outputs": [
    {
     "name": "stderr",
     "output_type": "stream",
     "text": [
      "100%|██████████| 6989/6989 [00:00<00:00, 8280.94it/s]\n"
     ]
    }
   ],
   "source": [
    "r, c = df_all_rankings.shape\n",
    "modified_titles = [\"\"] * r\n",
    "modified_artists = [\"\"] * r\n",
    "\n",
    "for i in tqdm(range(r)):\n",
    "    year = df_all_rankings.iloc[i, 0]\n",
    "    title = df_all_rankings.iloc[i, 2]\n",
    "    artist = df_all_rankings.iloc[i, 3]\n",
    "    modified_title = title_modification(title, year)\n",
    "    modified_artist = artist_modification(artist)\n",
    "    modified_titles[i] = modified_title\n",
    "    modified_artists[i] = modified_artist"
   ]
  },
  {
   "cell_type": "code",
   "execution_count": 30,
   "metadata": {},
   "outputs": [],
   "source": [
    "df_final = df_all_rankings.copy(deep=True)\n",
    "df_final[\"modified_title\"] = modified_titles\n",
    "df_final[\"modified_artist\"] = modified_artists"
   ]
  },
  {
   "cell_type": "code",
   "execution_count": 34,
   "metadata": {},
   "outputs": [
    {
     "data": {
      "text/html": [
       "<div>\n",
       "<style scoped>\n",
       "    .dataframe tbody tr th:only-of-type {\n",
       "        vertical-align: middle;\n",
       "    }\n",
       "\n",
       "    .dataframe tbody tr th {\n",
       "        vertical-align: top;\n",
       "    }\n",
       "\n",
       "    .dataframe thead th {\n",
       "        text-align: right;\n",
       "    }\n",
       "</style>\n",
       "<table border=\"1\" class=\"dataframe\">\n",
       "  <thead>\n",
       "    <tr style=\"text-align: right;\">\n",
       "      <th></th>\n",
       "      <th>year</th>\n",
       "      <th>rank</th>\n",
       "      <th>title</th>\n",
       "      <th>artist</th>\n",
       "      <th>modified_title</th>\n",
       "      <th>modified_artist</th>\n",
       "    </tr>\n",
       "  </thead>\n",
       "  <tbody>\n",
       "    <tr>\n",
       "      <th>0</th>\n",
       "      <td>1946</td>\n",
       "      <td>1</td>\n",
       "      <td>\"Prisoner of Love\"</td>\n",
       "      <td>Perry Como</td>\n",
       "      <td>Prisoner of Love</td>\n",
       "      <td>Perry Como</td>\n",
       "    </tr>\n",
       "    <tr>\n",
       "      <th>1</th>\n",
       "      <td>1946</td>\n",
       "      <td>2</td>\n",
       "      <td>\"To Each His Own\"</td>\n",
       "      <td>Eddy Howard</td>\n",
       "      <td>To Each His Own</td>\n",
       "      <td>Eddy Howard</td>\n",
       "    </tr>\n",
       "    <tr>\n",
       "      <th>2</th>\n",
       "      <td>1946</td>\n",
       "      <td>3</td>\n",
       "      <td>\"The Gypsy\"</td>\n",
       "      <td>The Ink Spots</td>\n",
       "      <td>The Gypsy</td>\n",
       "      <td>The Ink Spots</td>\n",
       "    </tr>\n",
       "    <tr>\n",
       "      <th>3</th>\n",
       "      <td>1946</td>\n",
       "      <td>4</td>\n",
       "      <td>\"Five Minutes More\"</td>\n",
       "      <td>Frank Sinatra</td>\n",
       "      <td>Five Minutes More</td>\n",
       "      <td>Frank Sinatra</td>\n",
       "    </tr>\n",
       "    <tr>\n",
       "      <th>4</th>\n",
       "      <td>1946</td>\n",
       "      <td>5</td>\n",
       "      <td>\"Rumors Are Flying\"</td>\n",
       "      <td>Frankie Carle</td>\n",
       "      <td>Rumors Are Flying</td>\n",
       "      <td>Frankie Carle</td>\n",
       "    </tr>\n",
       "    <tr>\n",
       "      <th>...</th>\n",
       "      <td>...</td>\n",
       "      <td>...</td>\n",
       "      <td>...</td>\n",
       "      <td>...</td>\n",
       "      <td>...</td>\n",
       "      <td>...</td>\n",
       "    </tr>\n",
       "    <tr>\n",
       "      <th>95</th>\n",
       "      <td>2023</td>\n",
       "      <td>96</td>\n",
       "      <td>\"Bzrp Music Sessions, Vol. 53\"</td>\n",
       "      <td>Bizarrap and Shakira</td>\n",
       "      <td>Bzrp Music Sessions, Vol. 53</td>\n",
       "      <td>Bizarrap</td>\n",
       "    </tr>\n",
       "    <tr>\n",
       "      <th>96</th>\n",
       "      <td>2023</td>\n",
       "      <td>97</td>\n",
       "      <td>\"Meltdown\"</td>\n",
       "      <td>Travis Scott featuring Drake</td>\n",
       "      <td>Meltdown</td>\n",
       "      <td>Travis Scott</td>\n",
       "    </tr>\n",
       "    <tr>\n",
       "      <th>97</th>\n",
       "      <td>2023</td>\n",
       "      <td>98</td>\n",
       "      <td>\"Put It on da Floor Again\"</td>\n",
       "      <td>Latto featuring Cardi B</td>\n",
       "      <td>Put It on da Floor Again</td>\n",
       "      <td>Latto</td>\n",
       "    </tr>\n",
       "    <tr>\n",
       "      <th>98</th>\n",
       "      <td>2023</td>\n",
       "      <td>99</td>\n",
       "      <td>\"Bloody Mary\"</td>\n",
       "      <td>Lady Gaga</td>\n",
       "      <td>Bloody Mary</td>\n",
       "      <td>Lady Gaga</td>\n",
       "    </tr>\n",
       "    <tr>\n",
       "      <th>99</th>\n",
       "      <td>2023</td>\n",
       "      <td>100</td>\n",
       "      <td>\"Watermelon Moonshine\"</td>\n",
       "      <td>Lainey Wilson</td>\n",
       "      <td>Watermelon Moonshine</td>\n",
       "      <td>Lainey Wilson</td>\n",
       "    </tr>\n",
       "  </tbody>\n",
       "</table>\n",
       "<p>6989 rows × 6 columns</p>\n",
       "</div>"
      ],
      "text/plain": [
       "    year  rank                           title                        artist  \\\n",
       "0   1946     1              \"Prisoner of Love\"                    Perry Como   \n",
       "1   1946     2               \"To Each His Own\"                   Eddy Howard   \n",
       "2   1946     3                     \"The Gypsy\"                 The Ink Spots   \n",
       "3   1946     4             \"Five Minutes More\"                 Frank Sinatra   \n",
       "4   1946     5             \"Rumors Are Flying\"                 Frankie Carle   \n",
       "..   ...   ...                             ...                           ...   \n",
       "95  2023    96  \"Bzrp Music Sessions, Vol. 53\"          Bizarrap and Shakira   \n",
       "96  2023    97                      \"Meltdown\"  Travis Scott featuring Drake   \n",
       "97  2023    98      \"Put It on da Floor Again\"       Latto featuring Cardi B   \n",
       "98  2023    99                   \"Bloody Mary\"                     Lady Gaga   \n",
       "99  2023   100          \"Watermelon Moonshine\"                 Lainey Wilson   \n",
       "\n",
       "                  modified_title modified_artist  \n",
       "0               Prisoner of Love      Perry Como  \n",
       "1                To Each His Own     Eddy Howard  \n",
       "2                      The Gypsy   The Ink Spots  \n",
       "3              Five Minutes More   Frank Sinatra  \n",
       "4              Rumors Are Flying   Frankie Carle  \n",
       "..                           ...             ...  \n",
       "95  Bzrp Music Sessions, Vol. 53        Bizarrap  \n",
       "96                      Meltdown    Travis Scott  \n",
       "97      Put It on da Floor Again           Latto  \n",
       "98                   Bloody Mary       Lady Gaga  \n",
       "99          Watermelon Moonshine   Lainey Wilson  \n",
       "\n",
       "[6989 rows x 6 columns]"
      ]
     },
     "execution_count": 34,
     "metadata": {},
     "output_type": "execute_result"
    }
   ],
   "source": [
    "df_final.rename(columns={\"Title\": \"title\", \"Artist(s)\": \"artist\"}, inplace=True)\n",
    "df_final"
   ]
  },
  {
   "cell_type": "code",
   "execution_count": null,
   "metadata": {},
   "outputs": [],
   "source": [
    "df_final.to_csv(\"data/ranking.csv\", index=False)"
   ]
  }
 ],
 "metadata": {
  "kernelspec": {
   "display_name": "music_analysis_env",
   "language": "python",
   "name": "python3"
  },
  "language_info": {
   "codemirror_mode": {
    "name": "ipython",
    "version": 3
   },
   "file_extension": ".py",
   "mimetype": "text/x-python",
   "name": "python",
   "nbconvert_exporter": "python",
   "pygments_lexer": "ipython3",
   "version": "3.11.8"
  }
 },
 "nbformat": 4,
 "nbformat_minor": 2
}
